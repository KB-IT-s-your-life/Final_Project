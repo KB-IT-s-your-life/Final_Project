{
 "cells": [
  {
   "cell_type": "code",
   "execution_count": 1,
   "metadata": {},
   "outputs": [],
   "source": [
    "import pandas as pd"
   ]
  },
  {
   "cell_type": "code",
   "execution_count": 3,
   "metadata": {},
   "outputs": [
    {
     "data": {
      "text/plain": [
       "Index(['Unnamed: 0', '접수연도', '자치구코드', '자치구명', '법정동코드', '법정동명', '지번구분', '지번구분명',\n",
       "       '본번', '부번', '층', '계약일', '전월세 구분', '임대면적(㎡)', '보증금(만원)', '임대료(만원)',\n",
       "       '건물명', '건축년도', '건물용도', '계약기간', '신규갱신여부', '계약갱신권사용여부', '종전 보증금',\n",
       "       '종전 임대료'],\n",
       "      dtype='object')"
      ]
     },
     "execution_count": 3,
     "metadata": {},
     "output_type": "execute_result"
    }
   ],
   "source": [
    "dt.columns"
   ]
  },
  {
   "cell_type": "code",
   "execution_count": 2,
   "metadata": {},
   "outputs": [
    {
     "name": "stderr",
     "output_type": "stream",
     "text": [
      "C:\\Users\\sujong\\AppData\\Local\\Temp\\ipykernel_26872\\1712199490.py:1: DtypeWarning: Columns (19,20,21) have mixed types. Specify dtype option on import or set low_memory=False.\n",
      "  dt = pd.read_csv('data/20212022합침.csv')\n"
     ]
    },
    {
     "data": {
      "text/html": [
       "<div>\n",
       "<style scoped>\n",
       "    .dataframe tbody tr th:only-of-type {\n",
       "        vertical-align: middle;\n",
       "    }\n",
       "\n",
       "    .dataframe tbody tr th {\n",
       "        vertical-align: top;\n",
       "    }\n",
       "\n",
       "    .dataframe thead th {\n",
       "        text-align: right;\n",
       "    }\n",
       "</style>\n",
       "<table border=\"1\" class=\"dataframe\">\n",
       "  <thead>\n",
       "    <tr style=\"text-align: right;\">\n",
       "      <th></th>\n",
       "      <th>Unnamed: 0</th>\n",
       "      <th>접수연도</th>\n",
       "      <th>자치구코드</th>\n",
       "      <th>자치구명</th>\n",
       "      <th>법정동코드</th>\n",
       "      <th>법정동명</th>\n",
       "      <th>지번구분</th>\n",
       "      <th>지번구분명</th>\n",
       "      <th>본번</th>\n",
       "      <th>부번</th>\n",
       "      <th>...</th>\n",
       "      <th>보증금(만원)</th>\n",
       "      <th>임대료(만원)</th>\n",
       "      <th>건물명</th>\n",
       "      <th>건축년도</th>\n",
       "      <th>건물용도</th>\n",
       "      <th>계약기간</th>\n",
       "      <th>신규갱신여부</th>\n",
       "      <th>계약갱신권사용여부</th>\n",
       "      <th>종전 보증금</th>\n",
       "      <th>종전 임대료</th>\n",
       "    </tr>\n",
       "  </thead>\n",
       "  <tbody>\n",
       "    <tr>\n",
       "      <th>0</th>\n",
       "      <td>0</td>\n",
       "      <td>2022</td>\n",
       "      <td>11350</td>\n",
       "      <td>노원구</td>\n",
       "      <td>10500</td>\n",
       "      <td>상계동</td>\n",
       "      <td>1.0</td>\n",
       "      <td>대지</td>\n",
       "      <td>1264.0</td>\n",
       "      <td>0.0</td>\n",
       "      <td>...</td>\n",
       "      <td>2676</td>\n",
       "      <td>2</td>\n",
       "      <td>은빛3단지</td>\n",
       "      <td>1998.0</td>\n",
       "      <td>아파트</td>\n",
       "      <td>NaN</td>\n",
       "      <td>NaN</td>\n",
       "      <td>NaN</td>\n",
       "      <td>NaN</td>\n",
       "      <td>NaN</td>\n",
       "    </tr>\n",
       "    <tr>\n",
       "      <th>1</th>\n",
       "      <td>1</td>\n",
       "      <td>2022</td>\n",
       "      <td>11170</td>\n",
       "      <td>용산구</td>\n",
       "      <td>10100</td>\n",
       "      <td>후암동</td>\n",
       "      <td>1.0</td>\n",
       "      <td>대지</td>\n",
       "      <td>406.0</td>\n",
       "      <td>73.0</td>\n",
       "      <td>...</td>\n",
       "      <td>19845</td>\n",
       "      <td>0</td>\n",
       "      <td>(406-73)</td>\n",
       "      <td>2008.0</td>\n",
       "      <td>연립다세대</td>\n",
       "      <td>NaN</td>\n",
       "      <td>NaN</td>\n",
       "      <td>NaN</td>\n",
       "      <td>NaN</td>\n",
       "      <td>NaN</td>\n",
       "    </tr>\n",
       "    <tr>\n",
       "      <th>2</th>\n",
       "      <td>2</td>\n",
       "      <td>2022</td>\n",
       "      <td>11260</td>\n",
       "      <td>중랑구</td>\n",
       "      <td>10400</td>\n",
       "      <td>묵동</td>\n",
       "      <td>1.0</td>\n",
       "      <td>대지</td>\n",
       "      <td>169.0</td>\n",
       "      <td>12.0</td>\n",
       "      <td>...</td>\n",
       "      <td>3000</td>\n",
       "      <td>49</td>\n",
       "      <td>로프트원태릉입구역</td>\n",
       "      <td>2020.0</td>\n",
       "      <td>아파트</td>\n",
       "      <td>NaN</td>\n",
       "      <td>NaN</td>\n",
       "      <td>NaN</td>\n",
       "      <td>NaN</td>\n",
       "      <td>NaN</td>\n",
       "    </tr>\n",
       "    <tr>\n",
       "      <th>3</th>\n",
       "      <td>3</td>\n",
       "      <td>2022</td>\n",
       "      <td>11740</td>\n",
       "      <td>강동구</td>\n",
       "      <td>10500</td>\n",
       "      <td>길동</td>\n",
       "      <td>1.0</td>\n",
       "      <td>대지</td>\n",
       "      <td>407.0</td>\n",
       "      <td>3.0</td>\n",
       "      <td>...</td>\n",
       "      <td>18900</td>\n",
       "      <td>4</td>\n",
       "      <td>(407-3)</td>\n",
       "      <td>2010.0</td>\n",
       "      <td>연립다세대</td>\n",
       "      <td>NaN</td>\n",
       "      <td>NaN</td>\n",
       "      <td>NaN</td>\n",
       "      <td>NaN</td>\n",
       "      <td>NaN</td>\n",
       "    </tr>\n",
       "    <tr>\n",
       "      <th>4</th>\n",
       "      <td>4</td>\n",
       "      <td>2022</td>\n",
       "      <td>11500</td>\n",
       "      <td>강서구</td>\n",
       "      <td>10900</td>\n",
       "      <td>방화동</td>\n",
       "      <td>1.0</td>\n",
       "      <td>대지</td>\n",
       "      <td>839.0</td>\n",
       "      <td>0.0</td>\n",
       "      <td>...</td>\n",
       "      <td>16000</td>\n",
       "      <td>20</td>\n",
       "      <td>방화그린</td>\n",
       "      <td>1993.0</td>\n",
       "      <td>아파트</td>\n",
       "      <td>NaN</td>\n",
       "      <td>NaN</td>\n",
       "      <td>NaN</td>\n",
       "      <td>NaN</td>\n",
       "      <td>NaN</td>\n",
       "    </tr>\n",
       "  </tbody>\n",
       "</table>\n",
       "<p>5 rows × 24 columns</p>\n",
       "</div>"
      ],
      "text/plain": [
       "   Unnamed: 0  접수연도  자치구코드 자치구명  법정동코드 법정동명  지번구분 지번구분명      본번    부번  ...  \\\n",
       "0           0  2022  11350  노원구  10500  상계동   1.0    대지  1264.0   0.0  ...   \n",
       "1           1  2022  11170  용산구  10100  후암동   1.0    대지   406.0  73.0  ...   \n",
       "2           2  2022  11260  중랑구  10400   묵동   1.0    대지   169.0  12.0  ...   \n",
       "3           3  2022  11740  강동구  10500   길동   1.0    대지   407.0   3.0  ...   \n",
       "4           4  2022  11500  강서구  10900  방화동   1.0    대지   839.0   0.0  ...   \n",
       "\n",
       "   보증금(만원)  임대료(만원)        건물명    건축년도   건물용도  계약기간 신규갱신여부  계약갱신권사용여부 종전 보증금  \\\n",
       "0     2676        2      은빛3단지  1998.0    아파트   NaN    NaN        NaN    NaN   \n",
       "1    19845        0   (406-73)  2008.0  연립다세대   NaN    NaN        NaN    NaN   \n",
       "2     3000       49  로프트원태릉입구역  2020.0    아파트   NaN    NaN        NaN    NaN   \n",
       "3    18900        4    (407-3)  2010.0  연립다세대   NaN    NaN        NaN    NaN   \n",
       "4    16000       20       방화그린  1993.0    아파트   NaN    NaN        NaN    NaN   \n",
       "\n",
       "  종전 임대료  \n",
       "0    NaN  \n",
       "1    NaN  \n",
       "2    NaN  \n",
       "3    NaN  \n",
       "4    NaN  \n",
       "\n",
       "[5 rows x 24 columns]"
      ]
     },
     "execution_count": 2,
     "metadata": {},
     "output_type": "execute_result"
    }
   ],
   "source": [
    "dt = pd.read_csv('data/20212022합침.csv')\n",
    "dt.head()"
   ]
  },
  {
   "cell_type": "code",
   "execution_count": 4,
   "metadata": {},
   "outputs": [
    {
     "data": {
      "text/plain": [
       "접수연도            0\n",
       "자치구명           33\n",
       "법정동명           33\n",
       "본번         275276\n",
       "부번         275276\n",
       "층          275526\n",
       "전월세 구분          0\n",
       "임대면적(㎡)         0\n",
       "보증금(만원)         0\n",
       "임대료(만원)         0\n",
       "건물명        275485\n",
       "건축년도        16174\n",
       "건물용도            0\n",
       "신규갱신여부     565262\n",
       "종전 보증금     674883\n",
       "종전 임대료     802113\n",
       "dtype: int64"
      ]
     },
     "execution_count": 4,
     "metadata": {},
     "output_type": "execute_result"
    }
   ],
   "source": [
    "dt_sub = dt[['접수연도', '자치구명', '법정동명','본번', '부번', '층','전월세 구분', '임대면적(㎡)', '보증금(만원)', '임대료(만원)',\n",
    "       '건물명', '건축년도', '건물용도','신규갱신여부', '종전 보증금', '종전 임대료' ]]\n",
    "dt_sub.isnull().sum()"
   ]
  },
  {
   "cell_type": "markdown",
   "metadata": {},
   "source": [
    "층, 건축년도, 종전 보증금, 종전 임대료 na값 -1로 채움  \n",
    "건물명, 신규갱신여부 na값 정보없음으로 채움"
   ]
  },
  {
   "cell_type": "code",
   "execution_count": 11,
   "metadata": {},
   "outputs": [
    {
     "name": "stderr",
     "output_type": "stream",
     "text": [
      "C:\\Users\\sujong\\AppData\\Local\\Temp\\ipykernel_26872\\2651084992.py:1: SettingWithCopyWarning: \n",
      "A value is trying to be set on a copy of a slice from a DataFrame\n",
      "\n",
      "See the caveats in the documentation: https://pandas.pydata.org/pandas-docs/stable/user_guide/indexing.html#returning-a-view-versus-a-copy\n",
      "  dt_sub['층'].fillna(-1, inplace=True)\n"
     ]
    },
    {
     "data": {
      "text/plain": [
       "0"
      ]
     },
     "execution_count": 11,
     "metadata": {},
     "output_type": "execute_result"
    }
   ],
   "source": [
    "# dt_sub['층'].fillna(-1, inplace=True)\n",
    "# dt_sub['층'].isna().sum()"
   ]
  },
  {
   "cell_type": "markdown",
   "metadata": {},
   "source": [
    "자치구명, 법정동명, 본번, 부번 null값 다날리기"
   ]
  },
  {
   "cell_type": "code",
   "execution_count": 13,
   "metadata": {},
   "outputs": [
    {
     "name": "stderr",
     "output_type": "stream",
     "text": [
      "C:\\Users\\sujong\\AppData\\Local\\Temp\\ipykernel_26872\\2344723877.py:1: SettingWithCopyWarning: \n",
      "A value is trying to be set on a copy of a slice from a DataFrame\n",
      "\n",
      "See the caveats in the documentation: https://pandas.pydata.org/pandas-docs/stable/user_guide/indexing.html#returning-a-view-versus-a-copy\n",
      "  dt_sub.dropna(inplace=True)\n"
     ]
    },
    {
     "data": {
      "text/plain": [
       "접수연도       0\n",
       "자치구명       0\n",
       "법정동명       0\n",
       "본번         0\n",
       "부번         0\n",
       "층          0\n",
       "전월세 구분     0\n",
       "임대면적(㎡)    0\n",
       "보증금(만원)    0\n",
       "임대료(만원)    0\n",
       "건물명        0\n",
       "건축년도       0\n",
       "건물용도       0\n",
       "신규갱신여부     0\n",
       "종전 보증금     0\n",
       "종전 임대료     0\n",
       "dtype: int64"
      ]
     },
     "execution_count": 13,
     "metadata": {},
     "output_type": "execute_result"
    }
   ],
   "source": [
    "dt_sub.dropna(inplace=True)\n",
    "dt_sub.isna().sum()"
   ]
  },
  {
   "cell_type": "markdown",
   "metadata": {},
   "source": [
    "본번, 부번, 층 소수점 붙어있는거 보기 싫어서 int형으로 변경"
   ]
  },
  {
   "cell_type": "code",
   "execution_count": 18,
   "metadata": {},
   "outputs": [
    {
     "name": "stderr",
     "output_type": "stream",
     "text": [
      "C:\\Users\\sujong\\AppData\\Local\\Temp\\ipykernel_26872\\1522472706.py:1: SettingWithCopyWarning: \n",
      "A value is trying to be set on a copy of a slice from a DataFrame.\n",
      "Try using .loc[row_indexer,col_indexer] = value instead\n",
      "\n",
      "See the caveats in the documentation: https://pandas.pydata.org/pandas-docs/stable/user_guide/indexing.html#returning-a-view-versus-a-copy\n",
      "  dt_sub['본번'] = dt_sub['본번'].astype('int')\n",
      "C:\\Users\\sujong\\AppData\\Local\\Temp\\ipykernel_26872\\1522472706.py:2: SettingWithCopyWarning: \n",
      "A value is trying to be set on a copy of a slice from a DataFrame.\n",
      "Try using .loc[row_indexer,col_indexer] = value instead\n",
      "\n",
      "See the caveats in the documentation: https://pandas.pydata.org/pandas-docs/stable/user_guide/indexing.html#returning-a-view-versus-a-copy\n",
      "  dt_sub['부번'] = dt_sub['부번'].astype('int')\n",
      "C:\\Users\\sujong\\AppData\\Local\\Temp\\ipykernel_26872\\1522472706.py:3: SettingWithCopyWarning: \n",
      "A value is trying to be set on a copy of a slice from a DataFrame.\n",
      "Try using .loc[row_indexer,col_indexer] = value instead\n",
      "\n",
      "See the caveats in the documentation: https://pandas.pydata.org/pandas-docs/stable/user_guide/indexing.html#returning-a-view-versus-a-copy\n",
      "  dt_sub['층'] = dt_sub['층'].astype('int')\n"
     ]
    },
    {
     "data": {
      "text/html": [
       "<div>\n",
       "<style scoped>\n",
       "    .dataframe tbody tr th:only-of-type {\n",
       "        vertical-align: middle;\n",
       "    }\n",
       "\n",
       "    .dataframe tbody tr th {\n",
       "        vertical-align: top;\n",
       "    }\n",
       "\n",
       "    .dataframe thead th {\n",
       "        text-align: right;\n",
       "    }\n",
       "</style>\n",
       "<table border=\"1\" class=\"dataframe\">\n",
       "  <thead>\n",
       "    <tr style=\"text-align: right;\">\n",
       "      <th></th>\n",
       "      <th>접수연도</th>\n",
       "      <th>자치구명</th>\n",
       "      <th>법정동명</th>\n",
       "      <th>본번</th>\n",
       "      <th>부번</th>\n",
       "      <th>층</th>\n",
       "      <th>전월세 구분</th>\n",
       "      <th>임대면적(㎡)</th>\n",
       "      <th>보증금(만원)</th>\n",
       "      <th>임대료(만원)</th>\n",
       "      <th>건물명</th>\n",
       "      <th>건축년도</th>\n",
       "      <th>건물용도</th>\n",
       "      <th>신규갱신여부</th>\n",
       "      <th>종전 보증금</th>\n",
       "      <th>종전 임대료</th>\n",
       "    </tr>\n",
       "  </thead>\n",
       "  <tbody>\n",
       "    <tr>\n",
       "      <th>0</th>\n",
       "      <td>2022</td>\n",
       "      <td>노원구</td>\n",
       "      <td>상계동</td>\n",
       "      <td>1264</td>\n",
       "      <td>0</td>\n",
       "      <td>12</td>\n",
       "      <td>월세</td>\n",
       "      <td>33.87</td>\n",
       "      <td>2676</td>\n",
       "      <td>2</td>\n",
       "      <td>은빛3단지</td>\n",
       "      <td>1998.0</td>\n",
       "      <td>아파트</td>\n",
       "      <td>정보없음</td>\n",
       "      <td>-1.0</td>\n",
       "      <td>-1.0</td>\n",
       "    </tr>\n",
       "    <tr>\n",
       "      <th>1</th>\n",
       "      <td>2022</td>\n",
       "      <td>용산구</td>\n",
       "      <td>후암동</td>\n",
       "      <td>406</td>\n",
       "      <td>73</td>\n",
       "      <td>2</td>\n",
       "      <td>전세</td>\n",
       "      <td>50.32</td>\n",
       "      <td>19845</td>\n",
       "      <td>0</td>\n",
       "      <td>(406-73)</td>\n",
       "      <td>2008.0</td>\n",
       "      <td>연립다세대</td>\n",
       "      <td>정보없음</td>\n",
       "      <td>-1.0</td>\n",
       "      <td>-1.0</td>\n",
       "    </tr>\n",
       "  </tbody>\n",
       "</table>\n",
       "</div>"
      ],
      "text/plain": [
       "   접수연도 자치구명 법정동명    본번  부번   층 전월세 구분  임대면적(㎡)  보증금(만원)  임대료(만원)       건물명  \\\n",
       "0  2022  노원구  상계동  1264   0  12     월세    33.87     2676        2     은빛3단지   \n",
       "1  2022  용산구  후암동   406  73   2     전세    50.32    19845        0  (406-73)   \n",
       "\n",
       "     건축년도   건물용도 신규갱신여부  종전 보증금  종전 임대료  \n",
       "0  1998.0    아파트   정보없음    -1.0    -1.0  \n",
       "1  2008.0  연립다세대   정보없음    -1.0    -1.0  "
      ]
     },
     "execution_count": 18,
     "metadata": {},
     "output_type": "execute_result"
    }
   ],
   "source": [
    "dt_sub['본번'] = dt_sub['본번'].astype('int')\n",
    "dt_sub['부번'] = dt_sub['부번'].astype('int')\n",
    "dt_sub['층'] = dt_sub['층'].astype('int')\n",
    "dt_sub.head(2)"
   ]
  },
  {
   "cell_type": "code",
   "execution_count": 19,
   "metadata": {},
   "outputs": [
    {
     "name": "stdout",
     "output_type": "stream",
     "text": [
      "<class 'pandas.core.frame.DataFrame'>\n",
      "Int64Index: 625586 entries, 0 to 900861\n",
      "Data columns (total 16 columns):\n",
      " #   Column   Non-Null Count   Dtype  \n",
      "---  ------   --------------   -----  \n",
      " 0   접수연도     625586 non-null  int64  \n",
      " 1   자치구명     625586 non-null  object \n",
      " 2   법정동명     625586 non-null  object \n",
      " 3   본번       625586 non-null  int32  \n",
      " 4   부번       625586 non-null  int32  \n",
      " 5   층        625586 non-null  int32  \n",
      " 6   전월세 구분   625586 non-null  object \n",
      " 7   임대면적(㎡)  625586 non-null  float64\n",
      " 8   보증금(만원)  625586 non-null  int64  \n",
      " 9   임대료(만원)  625586 non-null  int64  \n",
      " 10  건물명      625586 non-null  object \n",
      " 11  건축년도     625586 non-null  float64\n",
      " 12  건물용도     625586 non-null  object \n",
      " 13  신규갱신여부   625586 non-null  object \n",
      " 14  종전 보증금   625586 non-null  float64\n",
      " 15  종전 임대료   625586 non-null  float64\n",
      "dtypes: float64(4), int32(3), int64(3), object(6)\n",
      "memory usage: 74.0+ MB\n"
     ]
    }
   ],
   "source": [
    "dt_sub.info()"
   ]
  },
  {
   "cell_type": "code",
   "execution_count": 21,
   "metadata": {},
   "outputs": [
    {
     "name": "stderr",
     "output_type": "stream",
     "text": [
      "C:\\Users\\sujong\\AppData\\Local\\Temp\\ipykernel_26872\\3293228991.py:1: SettingWithCopyWarning: \n",
      "A value is trying to be set on a copy of a slice from a DataFrame.\n",
      "Try using .loc[row_indexer,col_indexer] = value instead\n",
      "\n",
      "See the caveats in the documentation: https://pandas.pydata.org/pandas-docs/stable/user_guide/indexing.html#returning-a-view-versus-a-copy\n",
      "  dt_sub['지번주소'] = '서울특별시 ' + dt_sub['자치구명']+' '+dt_sub['법정동명']+' '+dt_sub['본번'].astype('str')+'-'+dt_sub['부번'].astype('str')\n"
     ]
    },
    {
     "data": {
      "text/html": [
       "<div>\n",
       "<style scoped>\n",
       "    .dataframe tbody tr th:only-of-type {\n",
       "        vertical-align: middle;\n",
       "    }\n",
       "\n",
       "    .dataframe tbody tr th {\n",
       "        vertical-align: top;\n",
       "    }\n",
       "\n",
       "    .dataframe thead th {\n",
       "        text-align: right;\n",
       "    }\n",
       "</style>\n",
       "<table border=\"1\" class=\"dataframe\">\n",
       "  <thead>\n",
       "    <tr style=\"text-align: right;\">\n",
       "      <th></th>\n",
       "      <th>접수연도</th>\n",
       "      <th>자치구명</th>\n",
       "      <th>법정동명</th>\n",
       "      <th>본번</th>\n",
       "      <th>부번</th>\n",
       "      <th>층</th>\n",
       "      <th>전월세 구분</th>\n",
       "      <th>임대면적(㎡)</th>\n",
       "      <th>보증금(만원)</th>\n",
       "      <th>임대료(만원)</th>\n",
       "      <th>건물명</th>\n",
       "      <th>건축년도</th>\n",
       "      <th>건물용도</th>\n",
       "      <th>신규갱신여부</th>\n",
       "      <th>종전 보증금</th>\n",
       "      <th>종전 임대료</th>\n",
       "      <th>지번주소</th>\n",
       "    </tr>\n",
       "  </thead>\n",
       "  <tbody>\n",
       "    <tr>\n",
       "      <th>0</th>\n",
       "      <td>2022</td>\n",
       "      <td>노원구</td>\n",
       "      <td>상계동</td>\n",
       "      <td>1264</td>\n",
       "      <td>0</td>\n",
       "      <td>12</td>\n",
       "      <td>월세</td>\n",
       "      <td>33.87</td>\n",
       "      <td>2676</td>\n",
       "      <td>2</td>\n",
       "      <td>은빛3단지</td>\n",
       "      <td>1998.0</td>\n",
       "      <td>아파트</td>\n",
       "      <td>정보없음</td>\n",
       "      <td>-1.0</td>\n",
       "      <td>-1.0</td>\n",
       "      <td>서울특별시 노원구 상계동 1264-0</td>\n",
       "    </tr>\n",
       "    <tr>\n",
       "      <th>1</th>\n",
       "      <td>2022</td>\n",
       "      <td>용산구</td>\n",
       "      <td>후암동</td>\n",
       "      <td>406</td>\n",
       "      <td>73</td>\n",
       "      <td>2</td>\n",
       "      <td>전세</td>\n",
       "      <td>50.32</td>\n",
       "      <td>19845</td>\n",
       "      <td>0</td>\n",
       "      <td>(406-73)</td>\n",
       "      <td>2008.0</td>\n",
       "      <td>연립다세대</td>\n",
       "      <td>정보없음</td>\n",
       "      <td>-1.0</td>\n",
       "      <td>-1.0</td>\n",
       "      <td>서울특별시 용산구 후암동 406-73</td>\n",
       "    </tr>\n",
       "  </tbody>\n",
       "</table>\n",
       "</div>"
      ],
      "text/plain": [
       "   접수연도 자치구명 법정동명    본번  부번   층 전월세 구분  임대면적(㎡)  보증금(만원)  임대료(만원)       건물명  \\\n",
       "0  2022  노원구  상계동  1264   0  12     월세    33.87     2676        2     은빛3단지   \n",
       "1  2022  용산구  후암동   406  73   2     전세    50.32    19845        0  (406-73)   \n",
       "\n",
       "     건축년도   건물용도 신규갱신여부  종전 보증금  종전 임대료                  지번주소  \n",
       "0  1998.0    아파트   정보없음    -1.0    -1.0  서울특별시 노원구 상계동 1264-0  \n",
       "1  2008.0  연립다세대   정보없음    -1.0    -1.0  서울특별시 용산구 후암동 406-73  "
      ]
     },
     "execution_count": 21,
     "metadata": {},
     "output_type": "execute_result"
    }
   ],
   "source": [
    "dt_sub['지번주소'] = '서울특별시 ' + dt_sub['자치구명']+' '+dt_sub['법정동명']+' '+dt_sub['본번'].astype('str')+'-'+dt_sub['부번'].astype('str')\n",
    "dt_sub.head(2)"
   ]
  },
  {
   "cell_type": "code",
   "execution_count": 22,
   "metadata": {},
   "outputs": [
    {
     "name": "stdout",
     "output_type": "stream",
     "text": [
      "<class 'pandas.core.frame.DataFrame'>\n",
      "Int64Index: 625586 entries, 0 to 900861\n",
      "Data columns (total 17 columns):\n",
      " #   Column   Non-Null Count   Dtype  \n",
      "---  ------   --------------   -----  \n",
      " 0   접수연도     625586 non-null  int64  \n",
      " 1   자치구명     625586 non-null  object \n",
      " 2   법정동명     625586 non-null  object \n",
      " 3   본번       625586 non-null  int32  \n",
      " 4   부번       625586 non-null  int32  \n",
      " 5   층        625586 non-null  int32  \n",
      " 6   전월세 구분   625586 non-null  object \n",
      " 7   임대면적(㎡)  625586 non-null  float64\n",
      " 8   보증금(만원)  625586 non-null  int64  \n",
      " 9   임대료(만원)  625586 non-null  int64  \n",
      " 10  건물명      625586 non-null  object \n",
      " 11  건축년도     625586 non-null  float64\n",
      " 12  건물용도     625586 non-null  object \n",
      " 13  신규갱신여부   625586 non-null  object \n",
      " 14  종전 보증금   625586 non-null  float64\n",
      " 15  종전 임대료   625586 non-null  float64\n",
      " 16  지번주소     625586 non-null  object \n",
      "dtypes: float64(4), int32(3), int64(3), object(7)\n",
      "memory usage: 78.8+ MB\n"
     ]
    }
   ],
   "source": [
    "dt_sub.info()"
   ]
  },
  {
   "cell_type": "code",
   "execution_count": null,
   "metadata": {},
   "outputs": [],
   "source": [
    "dt_sub.to_csv('data/지번주소 추가한 매물데이터.csv')"
   ]
  }
 ],
 "metadata": {
  "kernelspec": {
   "display_name": "base",
   "language": "python",
   "name": "python3"
  },
  "language_info": {
   "codemirror_mode": {
    "name": "ipython",
    "version": 3
   },
   "file_extension": ".py",
   "mimetype": "text/x-python",
   "name": "python",
   "nbconvert_exporter": "python",
   "pygments_lexer": "ipython3",
   "version": "3.9.12 (main, Apr  4 2022, 05:22:27) [MSC v.1916 64 bit (AMD64)]"
  },
  "orig_nbformat": 4,
  "vscode": {
   "interpreter": {
    "hash": "e4cce46d6be9934fbd27f9ca0432556941ea5bdf741d4f4d64c6cd7f8dfa8fba"
   }
  }
 },
 "nbformat": 4,
 "nbformat_minor": 2
}

{
 "cells": [
  {
   "cell_type": "code",
   "execution_count": 6,
   "metadata": {},
   "outputs": [],
   "source": [
    "import pandas as pd"
   ]
  },
  {
   "cell_type": "code",
   "execution_count": 7,
   "metadata": {},
   "outputs": [
    {
     "name": "stderr",
     "output_type": "stream",
     "text": [
      "C:\\Users\\ice_9\\AppData\\Local\\Temp\\ipykernel_4216\\1116531002.py:1: DtypeWarning: Columns (18,19,20) have mixed types. Specify dtype option on import or set low_memory=False.\n",
      "  df = pd.read_csv(\"data/서울시 부동산 전월세가 정보_2022.csv\", encoding='cp949')\n"
     ]
    },
    {
     "data": {
      "text/html": [
       "<div>\n",
       "<style scoped>\n",
       "    .dataframe tbody tr th:only-of-type {\n",
       "        vertical-align: middle;\n",
       "    }\n",
       "\n",
       "    .dataframe tbody tr th {\n",
       "        vertical-align: top;\n",
       "    }\n",
       "\n",
       "    .dataframe thead th {\n",
       "        text-align: right;\n",
       "    }\n",
       "</style>\n",
       "<table border=\"1\" class=\"dataframe\">\n",
       "  <thead>\n",
       "    <tr style=\"text-align: right;\">\n",
       "      <th></th>\n",
       "      <th>접수연도</th>\n",
       "      <th>자치구코드</th>\n",
       "      <th>자치구명</th>\n",
       "      <th>법정동코드</th>\n",
       "      <th>법정동명</th>\n",
       "      <th>지번구분</th>\n",
       "      <th>지번구분명</th>\n",
       "      <th>본번</th>\n",
       "      <th>부번</th>\n",
       "      <th>층</th>\n",
       "      <th>...</th>\n",
       "      <th>보증금(만원)</th>\n",
       "      <th>임대료(만원)</th>\n",
       "      <th>건물명</th>\n",
       "      <th>건축년도</th>\n",
       "      <th>건물용도</th>\n",
       "      <th>계약기간</th>\n",
       "      <th>신규갱신여부</th>\n",
       "      <th>계약갱신권사용여부</th>\n",
       "      <th>종전 보증금</th>\n",
       "      <th>종전 임대료</th>\n",
       "    </tr>\n",
       "  </thead>\n",
       "  <tbody>\n",
       "    <tr>\n",
       "      <th>0</th>\n",
       "      <td>2022</td>\n",
       "      <td>11350</td>\n",
       "      <td>노원구</td>\n",
       "      <td>10500</td>\n",
       "      <td>상계동</td>\n",
       "      <td>1.0</td>\n",
       "      <td>대지</td>\n",
       "      <td>1264.0</td>\n",
       "      <td>0.0</td>\n",
       "      <td>12.0</td>\n",
       "      <td>...</td>\n",
       "      <td>2676</td>\n",
       "      <td>2</td>\n",
       "      <td>은빛3단지</td>\n",
       "      <td>1998.0</td>\n",
       "      <td>아파트</td>\n",
       "      <td>NaN</td>\n",
       "      <td>NaN</td>\n",
       "      <td>NaN</td>\n",
       "      <td>NaN</td>\n",
       "      <td>NaN</td>\n",
       "    </tr>\n",
       "    <tr>\n",
       "      <th>1</th>\n",
       "      <td>2022</td>\n",
       "      <td>11170</td>\n",
       "      <td>용산구</td>\n",
       "      <td>10100</td>\n",
       "      <td>후암동</td>\n",
       "      <td>1.0</td>\n",
       "      <td>대지</td>\n",
       "      <td>406.0</td>\n",
       "      <td>73.0</td>\n",
       "      <td>2.0</td>\n",
       "      <td>...</td>\n",
       "      <td>19845</td>\n",
       "      <td>0</td>\n",
       "      <td>(406-73)</td>\n",
       "      <td>2008.0</td>\n",
       "      <td>연립다세대</td>\n",
       "      <td>NaN</td>\n",
       "      <td>NaN</td>\n",
       "      <td>NaN</td>\n",
       "      <td>NaN</td>\n",
       "      <td>NaN</td>\n",
       "    </tr>\n",
       "    <tr>\n",
       "      <th>2</th>\n",
       "      <td>2022</td>\n",
       "      <td>11260</td>\n",
       "      <td>중랑구</td>\n",
       "      <td>10400</td>\n",
       "      <td>묵동</td>\n",
       "      <td>1.0</td>\n",
       "      <td>대지</td>\n",
       "      <td>169.0</td>\n",
       "      <td>12.0</td>\n",
       "      <td>12.0</td>\n",
       "      <td>...</td>\n",
       "      <td>3000</td>\n",
       "      <td>49</td>\n",
       "      <td>로프트원태릉입구역</td>\n",
       "      <td>2020.0</td>\n",
       "      <td>아파트</td>\n",
       "      <td>NaN</td>\n",
       "      <td>NaN</td>\n",
       "      <td>NaN</td>\n",
       "      <td>NaN</td>\n",
       "      <td>NaN</td>\n",
       "    </tr>\n",
       "    <tr>\n",
       "      <th>3</th>\n",
       "      <td>2022</td>\n",
       "      <td>11740</td>\n",
       "      <td>강동구</td>\n",
       "      <td>10500</td>\n",
       "      <td>길동</td>\n",
       "      <td>1.0</td>\n",
       "      <td>대지</td>\n",
       "      <td>407.0</td>\n",
       "      <td>3.0</td>\n",
       "      <td>4.0</td>\n",
       "      <td>...</td>\n",
       "      <td>18900</td>\n",
       "      <td>4</td>\n",
       "      <td>(407-3)</td>\n",
       "      <td>2010.0</td>\n",
       "      <td>연립다세대</td>\n",
       "      <td>NaN</td>\n",
       "      <td>NaN</td>\n",
       "      <td>NaN</td>\n",
       "      <td>NaN</td>\n",
       "      <td>NaN</td>\n",
       "    </tr>\n",
       "    <tr>\n",
       "      <th>4</th>\n",
       "      <td>2022</td>\n",
       "      <td>11500</td>\n",
       "      <td>강서구</td>\n",
       "      <td>10900</td>\n",
       "      <td>방화동</td>\n",
       "      <td>1.0</td>\n",
       "      <td>대지</td>\n",
       "      <td>839.0</td>\n",
       "      <td>0.0</td>\n",
       "      <td>4.0</td>\n",
       "      <td>...</td>\n",
       "      <td>16000</td>\n",
       "      <td>20</td>\n",
       "      <td>방화그린</td>\n",
       "      <td>1993.0</td>\n",
       "      <td>아파트</td>\n",
       "      <td>NaN</td>\n",
       "      <td>NaN</td>\n",
       "      <td>NaN</td>\n",
       "      <td>NaN</td>\n",
       "      <td>NaN</td>\n",
       "    </tr>\n",
       "  </tbody>\n",
       "</table>\n",
       "<p>5 rows × 23 columns</p>\n",
       "</div>"
      ],
      "text/plain": [
       "   접수연도  자치구코드 자치구명  법정동코드 법정동명  지번구분 지번구분명      본번    부번     층  ...  보증금(만원)  \\\n",
       "0  2022  11350  노원구  10500  상계동   1.0    대지  1264.0   0.0  12.0  ...     2676   \n",
       "1  2022  11170  용산구  10100  후암동   1.0    대지   406.0  73.0   2.0  ...    19845   \n",
       "2  2022  11260  중랑구  10400   묵동   1.0    대지   169.0  12.0  12.0  ...     3000   \n",
       "3  2022  11740  강동구  10500   길동   1.0    대지   407.0   3.0   4.0  ...    18900   \n",
       "4  2022  11500  강서구  10900  방화동   1.0    대지   839.0   0.0   4.0  ...    16000   \n",
       "\n",
       "  임대료(만원)        건물명    건축년도   건물용도 계약기간  신규갱신여부 계약갱신권사용여부 종전 보증금 종전 임대료  \n",
       "0       2      은빛3단지  1998.0    아파트  NaN     NaN       NaN    NaN    NaN  \n",
       "1       0   (406-73)  2008.0  연립다세대  NaN     NaN       NaN    NaN    NaN  \n",
       "2      49  로프트원태릉입구역  2020.0    아파트  NaN     NaN       NaN    NaN    NaN  \n",
       "3       4    (407-3)  2010.0  연립다세대  NaN     NaN       NaN    NaN    NaN  \n",
       "4      20       방화그린  1993.0    아파트  NaN     NaN       NaN    NaN    NaN  \n",
       "\n",
       "[5 rows x 23 columns]"
      ]
     },
     "execution_count": 7,
     "metadata": {},
     "output_type": "execute_result"
    }
   ],
   "source": [
    "df = pd.read_csv(\"data/서울시 부동산 전월세가 정보_2022.csv\", encoding='cp949')\n",
    "df.head()"
   ]
  },
  {
   "cell_type": "code",
   "execution_count": 8,
   "metadata": {},
   "outputs": [
    {
     "data": {
      "text/plain": [
       "array(['월세', '전세'], dtype=object)"
      ]
     },
     "execution_count": 8,
     "metadata": {},
     "output_type": "execute_result"
    }
   ],
   "source": [
    "df['전월세 구분'].unique()"
   ]
  },
  {
   "cell_type": "code",
   "execution_count": 9,
   "metadata": {},
   "outputs": [
    {
     "data": {
      "text/html": [
       "<div>\n",
       "<style scoped>\n",
       "    .dataframe tbody tr th:only-of-type {\n",
       "        vertical-align: middle;\n",
       "    }\n",
       "\n",
       "    .dataframe tbody tr th {\n",
       "        vertical-align: top;\n",
       "    }\n",
       "\n",
       "    .dataframe thead th {\n",
       "        text-align: right;\n",
       "    }\n",
       "</style>\n",
       "<table border=\"1\" class=\"dataframe\">\n",
       "  <thead>\n",
       "    <tr style=\"text-align: right;\">\n",
       "      <th></th>\n",
       "      <th>접수연도</th>\n",
       "      <th>자치구코드</th>\n",
       "      <th>자치구명</th>\n",
       "      <th>법정동코드</th>\n",
       "      <th>법정동명</th>\n",
       "      <th>지번구분</th>\n",
       "      <th>지번구분명</th>\n",
       "      <th>본번</th>\n",
       "      <th>부번</th>\n",
       "      <th>층</th>\n",
       "      <th>...</th>\n",
       "      <th>보증금(만원)</th>\n",
       "      <th>임대료(만원)</th>\n",
       "      <th>건물명</th>\n",
       "      <th>건축년도</th>\n",
       "      <th>건물용도</th>\n",
       "      <th>계약기간</th>\n",
       "      <th>신규갱신여부</th>\n",
       "      <th>계약갱신권사용여부</th>\n",
       "      <th>종전 보증금</th>\n",
       "      <th>종전 임대료</th>\n",
       "    </tr>\n",
       "  </thead>\n",
       "  <tbody>\n",
       "    <tr>\n",
       "      <th>0</th>\n",
       "      <td>2022</td>\n",
       "      <td>11350</td>\n",
       "      <td>노원구</td>\n",
       "      <td>10500</td>\n",
       "      <td>상계동</td>\n",
       "      <td>1.0</td>\n",
       "      <td>대지</td>\n",
       "      <td>1264.0</td>\n",
       "      <td>0.0</td>\n",
       "      <td>12.0</td>\n",
       "      <td>...</td>\n",
       "      <td>2676</td>\n",
       "      <td>2</td>\n",
       "      <td>은빛3단지</td>\n",
       "      <td>1998.0</td>\n",
       "      <td>아파트</td>\n",
       "      <td>NaN</td>\n",
       "      <td>NaN</td>\n",
       "      <td>NaN</td>\n",
       "      <td>NaN</td>\n",
       "      <td>NaN</td>\n",
       "    </tr>\n",
       "    <tr>\n",
       "      <th>2</th>\n",
       "      <td>2022</td>\n",
       "      <td>11260</td>\n",
       "      <td>중랑구</td>\n",
       "      <td>10400</td>\n",
       "      <td>묵동</td>\n",
       "      <td>1.0</td>\n",
       "      <td>대지</td>\n",
       "      <td>169.0</td>\n",
       "      <td>12.0</td>\n",
       "      <td>12.0</td>\n",
       "      <td>...</td>\n",
       "      <td>3000</td>\n",
       "      <td>49</td>\n",
       "      <td>로프트원태릉입구역</td>\n",
       "      <td>2020.0</td>\n",
       "      <td>아파트</td>\n",
       "      <td>NaN</td>\n",
       "      <td>NaN</td>\n",
       "      <td>NaN</td>\n",
       "      <td>NaN</td>\n",
       "      <td>NaN</td>\n",
       "    </tr>\n",
       "    <tr>\n",
       "      <th>3</th>\n",
       "      <td>2022</td>\n",
       "      <td>11740</td>\n",
       "      <td>강동구</td>\n",
       "      <td>10500</td>\n",
       "      <td>길동</td>\n",
       "      <td>1.0</td>\n",
       "      <td>대지</td>\n",
       "      <td>407.0</td>\n",
       "      <td>3.0</td>\n",
       "      <td>4.0</td>\n",
       "      <td>...</td>\n",
       "      <td>18900</td>\n",
       "      <td>4</td>\n",
       "      <td>(407-3)</td>\n",
       "      <td>2010.0</td>\n",
       "      <td>연립다세대</td>\n",
       "      <td>NaN</td>\n",
       "      <td>NaN</td>\n",
       "      <td>NaN</td>\n",
       "      <td>NaN</td>\n",
       "      <td>NaN</td>\n",
       "    </tr>\n",
       "    <tr>\n",
       "      <th>4</th>\n",
       "      <td>2022</td>\n",
       "      <td>11500</td>\n",
       "      <td>강서구</td>\n",
       "      <td>10900</td>\n",
       "      <td>방화동</td>\n",
       "      <td>1.0</td>\n",
       "      <td>대지</td>\n",
       "      <td>839.0</td>\n",
       "      <td>0.0</td>\n",
       "      <td>4.0</td>\n",
       "      <td>...</td>\n",
       "      <td>16000</td>\n",
       "      <td>20</td>\n",
       "      <td>방화그린</td>\n",
       "      <td>1993.0</td>\n",
       "      <td>아파트</td>\n",
       "      <td>NaN</td>\n",
       "      <td>NaN</td>\n",
       "      <td>NaN</td>\n",
       "      <td>NaN</td>\n",
       "      <td>NaN</td>\n",
       "    </tr>\n",
       "    <tr>\n",
       "      <th>8</th>\n",
       "      <td>2022</td>\n",
       "      <td>11710</td>\n",
       "      <td>송파구</td>\n",
       "      <td>11300</td>\n",
       "      <td>거여동</td>\n",
       "      <td>1.0</td>\n",
       "      <td>대지</td>\n",
       "      <td>202.0</td>\n",
       "      <td>180.0</td>\n",
       "      <td>3.0</td>\n",
       "      <td>...</td>\n",
       "      <td>3155</td>\n",
       "      <td>16</td>\n",
       "      <td>송파시그니처롯데캐슬</td>\n",
       "      <td>2021.0</td>\n",
       "      <td>아파트</td>\n",
       "      <td>NaN</td>\n",
       "      <td>NaN</td>\n",
       "      <td>NaN</td>\n",
       "      <td>NaN</td>\n",
       "      <td>NaN</td>\n",
       "    </tr>\n",
       "  </tbody>\n",
       "</table>\n",
       "<p>5 rows × 23 columns</p>\n",
       "</div>"
      ],
      "text/plain": [
       "   접수연도  자치구코드 자치구명  법정동코드 법정동명  지번구분 지번구분명      본번     부번     층  ...  \\\n",
       "0  2022  11350  노원구  10500  상계동   1.0    대지  1264.0    0.0  12.0  ...   \n",
       "2  2022  11260  중랑구  10400   묵동   1.0    대지   169.0   12.0  12.0  ...   \n",
       "3  2022  11740  강동구  10500   길동   1.0    대지   407.0    3.0   4.0  ...   \n",
       "4  2022  11500  강서구  10900  방화동   1.0    대지   839.0    0.0   4.0  ...   \n",
       "8  2022  11710  송파구  11300  거여동   1.0    대지   202.0  180.0   3.0  ...   \n",
       "\n",
       "   보증금(만원) 임대료(만원)         건물명    건축년도   건물용도 계약기간  신규갱신여부 계약갱신권사용여부 종전 보증금  \\\n",
       "0     2676       2       은빛3단지  1998.0    아파트  NaN     NaN       NaN    NaN   \n",
       "2     3000      49   로프트원태릉입구역  2020.0    아파트  NaN     NaN       NaN    NaN   \n",
       "3    18900       4     (407-3)  2010.0  연립다세대  NaN     NaN       NaN    NaN   \n",
       "4    16000      20        방화그린  1993.0    아파트  NaN     NaN       NaN    NaN   \n",
       "8     3155      16  송파시그니처롯데캐슬  2021.0    아파트  NaN     NaN       NaN    NaN   \n",
       "\n",
       "  종전 임대료  \n",
       "0    NaN  \n",
       "2    NaN  \n",
       "3    NaN  \n",
       "4    NaN  \n",
       "8    NaN  \n",
       "\n",
       "[5 rows x 23 columns]"
      ]
     },
     "execution_count": 9,
     "metadata": {},
     "output_type": "execute_result"
    }
   ],
   "source": [
    "df_sub = df.loc[df['전월세 구분']=='월세']\n",
    "df_sub.head()"
   ]
  },
  {
   "cell_type": "code",
   "execution_count": 10,
   "metadata": {},
   "outputs": [
    {
     "data": {
      "text/plain": [
       "송파구     16437\n",
       "관악구     14070\n",
       "강남구     12654\n",
       "마포구     10294\n",
       "강서구     10220\n",
       "동작구      9485\n",
       "강동구      9305\n",
       "광진구      9212\n",
       "서초구      8640\n",
       "동대문구     7054\n",
       "영등포구     6927\n",
       "노원구      6779\n",
       "중랑구      6651\n",
       "성북구      6537\n",
       "은평구      6494\n",
       "구로구      6404\n",
       "성동구      5751\n",
       "서대문구     5603\n",
       "양천구      5175\n",
       "금천구      4244\n",
       "용산구      4006\n",
       "강북구      3780\n",
       "도봉구      3434\n",
       "종로구      2467\n",
       "중구       2440\n",
       "Name: 자치구명, dtype: int64"
      ]
     },
     "execution_count": 10,
     "metadata": {},
     "output_type": "execute_result"
    }
   ],
   "source": [
    "df_sub['자치구명'].value_counts()"
   ]
  },
  {
   "cell_type": "code",
   "execution_count": 11,
   "metadata": {},
   "outputs": [
    {
     "data": {
      "text/html": [
       "<div>\n",
       "<style scoped>\n",
       "    .dataframe tbody tr th:only-of-type {\n",
       "        vertical-align: middle;\n",
       "    }\n",
       "\n",
       "    .dataframe tbody tr th {\n",
       "        vertical-align: top;\n",
       "    }\n",
       "\n",
       "    .dataframe thead th {\n",
       "        text-align: right;\n",
       "    }\n",
       "</style>\n",
       "<table border=\"1\" class=\"dataframe\">\n",
       "  <thead>\n",
       "    <tr style=\"text-align: right;\">\n",
       "      <th></th>\n",
       "      <th>접수연도</th>\n",
       "      <th>자치구코드</th>\n",
       "      <th>자치구명</th>\n",
       "      <th>법정동코드</th>\n",
       "      <th>법정동명</th>\n",
       "      <th>지번구분</th>\n",
       "      <th>지번구분명</th>\n",
       "      <th>본번</th>\n",
       "      <th>부번</th>\n",
       "      <th>층</th>\n",
       "      <th>...</th>\n",
       "      <th>보증금(만원)</th>\n",
       "      <th>임대료(만원)</th>\n",
       "      <th>건물명</th>\n",
       "      <th>건축년도</th>\n",
       "      <th>건물용도</th>\n",
       "      <th>계약기간</th>\n",
       "      <th>신규갱신여부</th>\n",
       "      <th>계약갱신권사용여부</th>\n",
       "      <th>종전 보증금</th>\n",
       "      <th>종전 임대료</th>\n",
       "    </tr>\n",
       "  </thead>\n",
       "  <tbody>\n",
       "    <tr>\n",
       "      <th>8</th>\n",
       "      <td>2022</td>\n",
       "      <td>11710</td>\n",
       "      <td>송파구</td>\n",
       "      <td>11300</td>\n",
       "      <td>거여동</td>\n",
       "      <td>1.0</td>\n",
       "      <td>대지</td>\n",
       "      <td>202.0</td>\n",
       "      <td>180.0</td>\n",
       "      <td>3.0</td>\n",
       "      <td>...</td>\n",
       "      <td>3155</td>\n",
       "      <td>16</td>\n",
       "      <td>송파시그니처롯데캐슬</td>\n",
       "      <td>2021.0</td>\n",
       "      <td>아파트</td>\n",
       "      <td>NaN</td>\n",
       "      <td>NaN</td>\n",
       "      <td>NaN</td>\n",
       "      <td>NaN</td>\n",
       "      <td>NaN</td>\n",
       "    </tr>\n",
       "    <tr>\n",
       "      <th>108</th>\n",
       "      <td>2022</td>\n",
       "      <td>11710</td>\n",
       "      <td>송파구</td>\n",
       "      <td>11100</td>\n",
       "      <td>방이동</td>\n",
       "      <td>1.0</td>\n",
       "      <td>대지</td>\n",
       "      <td>89.0</td>\n",
       "      <td>0.0</td>\n",
       "      <td>7.0</td>\n",
       "      <td>...</td>\n",
       "      <td>80000</td>\n",
       "      <td>30</td>\n",
       "      <td>올림픽선수기자촌1단지</td>\n",
       "      <td>1988.0</td>\n",
       "      <td>아파트</td>\n",
       "      <td>NaN</td>\n",
       "      <td>NaN</td>\n",
       "      <td>NaN</td>\n",
       "      <td>NaN</td>\n",
       "      <td>NaN</td>\n",
       "    </tr>\n",
       "    <tr>\n",
       "      <th>176</th>\n",
       "      <td>2022</td>\n",
       "      <td>11710</td>\n",
       "      <td>송파구</td>\n",
       "      <td>10300</td>\n",
       "      <td>풍납동</td>\n",
       "      <td>1.0</td>\n",
       "      <td>대지</td>\n",
       "      <td>163.0</td>\n",
       "      <td>0.0</td>\n",
       "      <td>5.0</td>\n",
       "      <td>...</td>\n",
       "      <td>12000</td>\n",
       "      <td>70</td>\n",
       "      <td>대아(제101상가동)</td>\n",
       "      <td>1998.0</td>\n",
       "      <td>아파트</td>\n",
       "      <td>NaN</td>\n",
       "      <td>NaN</td>\n",
       "      <td>NaN</td>\n",
       "      <td>NaN</td>\n",
       "      <td>NaN</td>\n",
       "    </tr>\n",
       "    <tr>\n",
       "      <th>179</th>\n",
       "      <td>2022</td>\n",
       "      <td>11710</td>\n",
       "      <td>송파구</td>\n",
       "      <td>10300</td>\n",
       "      <td>풍납동</td>\n",
       "      <td>NaN</td>\n",
       "      <td>NaN</td>\n",
       "      <td>NaN</td>\n",
       "      <td>NaN</td>\n",
       "      <td>NaN</td>\n",
       "      <td>...</td>\n",
       "      <td>500</td>\n",
       "      <td>30</td>\n",
       "      <td>NaN</td>\n",
       "      <td>1993.0</td>\n",
       "      <td>단독다가구</td>\n",
       "      <td>NaN</td>\n",
       "      <td>NaN</td>\n",
       "      <td>NaN</td>\n",
       "      <td>NaN</td>\n",
       "      <td>NaN</td>\n",
       "    </tr>\n",
       "    <tr>\n",
       "      <th>231</th>\n",
       "      <td>2022</td>\n",
       "      <td>11710</td>\n",
       "      <td>송파구</td>\n",
       "      <td>10600</td>\n",
       "      <td>삼전동</td>\n",
       "      <td>1.0</td>\n",
       "      <td>대지</td>\n",
       "      <td>33.0</td>\n",
       "      <td>14.0</td>\n",
       "      <td>2.0</td>\n",
       "      <td>...</td>\n",
       "      <td>7750</td>\n",
       "      <td>26</td>\n",
       "      <td>삼전파크빌Ⅲ</td>\n",
       "      <td>2022.0</td>\n",
       "      <td>연립다세대</td>\n",
       "      <td>NaN</td>\n",
       "      <td>NaN</td>\n",
       "      <td>NaN</td>\n",
       "      <td>NaN</td>\n",
       "      <td>NaN</td>\n",
       "    </tr>\n",
       "  </tbody>\n",
       "</table>\n",
       "<p>5 rows × 23 columns</p>\n",
       "</div>"
      ],
      "text/plain": [
       "     접수연도  자치구코드 자치구명  법정동코드 법정동명  지번구분 지번구분명     본번     부번    층  ...  \\\n",
       "8    2022  11710  송파구  11300  거여동   1.0    대지  202.0  180.0  3.0  ...   \n",
       "108  2022  11710  송파구  11100  방이동   1.0    대지   89.0    0.0  7.0  ...   \n",
       "176  2022  11710  송파구  10300  풍납동   1.0    대지  163.0    0.0  5.0  ...   \n",
       "179  2022  11710  송파구  10300  풍납동   NaN   NaN    NaN    NaN  NaN  ...   \n",
       "231  2022  11710  송파구  10600  삼전동   1.0    대지   33.0   14.0  2.0  ...   \n",
       "\n",
       "     보증금(만원) 임대료(만원)          건물명    건축년도   건물용도 계약기간  신규갱신여부 계약갱신권사용여부  \\\n",
       "8       3155      16   송파시그니처롯데캐슬  2021.0    아파트  NaN     NaN       NaN   \n",
       "108    80000      30  올림픽선수기자촌1단지  1988.0    아파트  NaN     NaN       NaN   \n",
       "176    12000      70  대아(제101상가동)  1998.0    아파트  NaN     NaN       NaN   \n",
       "179      500      30          NaN  1993.0  단독다가구  NaN     NaN       NaN   \n",
       "231     7750      26       삼전파크빌Ⅲ  2022.0  연립다세대  NaN     NaN       NaN   \n",
       "\n",
       "    종전 보증금 종전 임대료  \n",
       "8      NaN    NaN  \n",
       "108    NaN    NaN  \n",
       "176    NaN    NaN  \n",
       "179    NaN    NaN  \n",
       "231    NaN    NaN  \n",
       "\n",
       "[5 rows x 23 columns]"
      ]
     },
     "execution_count": 11,
     "metadata": {},
     "output_type": "execute_result"
    }
   ],
   "source": [
    "songpa = df_sub.loc[df_sub['자치구명']=='송파구']\n",
    "songpa.head()"
   ]
  },
  {
   "cell_type": "code",
   "execution_count": 12,
   "metadata": {},
   "outputs": [
    {
     "data": {
      "text/plain": [
       "신규    5002\n",
       "갱신    2040\n",
       "Name: 신규갱신여부, dtype: int64"
      ]
     },
     "execution_count": 12,
     "metadata": {},
     "output_type": "execute_result"
    }
   ],
   "source": [
    "songpa['신규갱신여부'].value_counts()"
   ]
  },
  {
   "cell_type": "code",
   "execution_count": 13,
   "metadata": {},
   "outputs": [
    {
     "name": "stdout",
     "output_type": "stream",
     "text": [
      "<class 'pandas.core.frame.DataFrame'>\n",
      "Int64Index: 2040 entries, 124577 to 364850\n",
      "Data columns (total 23 columns):\n",
      " #   Column     Non-Null Count  Dtype  \n",
      "---  ------     --------------  -----  \n",
      " 0   접수연도       2040 non-null   int64  \n",
      " 1   자치구코드      2040 non-null   int64  \n",
      " 2   자치구명       2040 non-null   object \n",
      " 3   법정동코드      2040 non-null   int64  \n",
      " 4   법정동명       2040 non-null   object \n",
      " 5   지번구분       1885 non-null   float64\n",
      " 6   지번구분명      1885 non-null   object \n",
      " 7   본번         1886 non-null   float64\n",
      " 8   부번         1886 non-null   float64\n",
      " 9   층          1885 non-null   float64\n",
      " 10  계약일        2040 non-null   int64  \n",
      " 11  전월세 구분     2040 non-null   object \n",
      " 12  임대면적(㎡)    2040 non-null   float64\n",
      " 13  보증금(만원)    2040 non-null   int64  \n",
      " 14  임대료(만원)    2040 non-null   int64  \n",
      " 15  건물명        1886 non-null   object \n",
      " 16  건축년도       2011 non-null   float64\n",
      " 17  건물용도       2040 non-null   object \n",
      " 18  계약기간       1907 non-null   object \n",
      " 19  신규갱신여부     2040 non-null   object \n",
      " 20  계약갱신권사용여부  944 non-null    object \n",
      " 21  종전 보증금     2040 non-null   float64\n",
      " 22  종전 임대료     2040 non-null   float64\n",
      "dtypes: float64(8), int64(6), object(9)\n",
      "memory usage: 382.5+ KB\n"
     ]
    }
   ],
   "source": [
    "songpa_gangsin = songpa.loc[songpa['신규갱신여부']=='갱신']\n",
    "songpa_gangsin.info()"
   ]
  },
  {
   "cell_type": "markdown",
   "metadata": {},
   "source": [
    "월세-송파구-갱신"
   ]
  },
  {
   "cell_type": "code",
   "execution_count": 14,
   "metadata": {},
   "outputs": [
    {
     "data": {
      "text/plain": [
       "array([ 0., 25.,  4., 20.,  3., nan,  9., 10.,  1., 17.,  2.,  8., 14.,\n",
       "        5.,  7., 19., 23.,  6., 11., 12., 26., 13., 18., 45., 16., 24.,\n",
       "       22., 31., 39., 15., 33., 29., 64., 21., 27., 36., 32., 41., 34.,\n",
       "       28.])"
      ]
     },
     "execution_count": 14,
     "metadata": {},
     "output_type": "execute_result"
    }
   ],
   "source": [
    "songpa_gangsin['부번'].unique()"
   ]
  },
  {
   "cell_type": "markdown",
   "metadata": {},
   "source": [
    "층이 없는 건물은 단독다가구 -> 층의 null 값을 1로 변경"
   ]
  },
  {
   "cell_type": "code",
   "execution_count": 15,
   "metadata": {},
   "outputs": [
    {
     "data": {
      "text/plain": [
       "array(['단독다가구'], dtype=object)"
      ]
     },
     "execution_count": 15,
     "metadata": {},
     "output_type": "execute_result"
    }
   ],
   "source": [
    "songpa_gangsin.loc[songpa_gangsin['층'].isnull(), '건물용도'].unique()"
   ]
  },
  {
   "cell_type": "code",
   "execution_count": 16,
   "metadata": {},
   "outputs": [
    {
     "data": {
      "text/plain": [
       "array(['○', nan], dtype=object)"
      ]
     },
     "execution_count": 16,
     "metadata": {},
     "output_type": "execute_result"
    }
   ],
   "source": [
    "songpa_gangsin['계약갱신권사용여부'].unique()"
   ]
  },
  {
   "cell_type": "markdown",
   "metadata": {},
   "source": [
    "계약갱신권컬럼 사용할거면 사용 한거 1 안한거 0으로 주고 하면 될듯?"
   ]
  },
  {
   "cell_type": "code",
   "execution_count": 17,
   "metadata": {},
   "outputs": [
    {
     "data": {
      "text/plain": [
       "아파트      794\n",
       "연립다세대    791\n",
       "오피스텔     300\n",
       "단독다가구    155\n",
       "Name: 건물용도, dtype: int64"
      ]
     },
     "execution_count": 17,
     "metadata": {},
     "output_type": "execute_result"
    }
   ],
   "source": [
    "songpa_gangsin['건물용도'].value_counts()"
   ]
  },
  {
   "cell_type": "markdown",
   "metadata": {},
   "source": [
    "건물명을 쓰지 않기 위해서 아파트를 뺀다..?"
   ]
  },
  {
   "cell_type": "code",
   "execution_count": 18,
   "metadata": {},
   "outputs": [
    {
     "data": {
      "text/plain": [
       "120"
      ]
     },
     "execution_count": 18,
     "metadata": {},
     "output_type": "execute_result"
    }
   ],
   "source": [
    "len(songpa_gangsin.loc[songpa_gangsin['건물용도']=='아파트', '건물명'].value_counts())"
   ]
  },
  {
   "cell_type": "code",
   "execution_count": 19,
   "metadata": {},
   "outputs": [
    {
     "data": {
      "text/plain": [
       "764"
      ]
     },
     "execution_count": 19,
     "metadata": {},
     "output_type": "execute_result"
    }
   ],
   "source": [
    "len(songpa_gangsin['건물명'].value_counts())"
   ]
  },
  {
   "cell_type": "code",
   "execution_count": 20,
   "metadata": {},
   "outputs": [
    {
     "data": {
      "text/plain": [
       "39"
      ]
     },
     "execution_count": 20,
     "metadata": {},
     "output_type": "execute_result"
    }
   ],
   "source": [
    "len(songpa_gangsin['층'].value_counts())"
   ]
  },
  {
   "cell_type": "markdown",
   "metadata": {},
   "source": [
    "건축년도가 건물명을 대체해줄수 있지 않을까?"
   ]
  },
  {
   "cell_type": "code",
   "execution_count": 21,
   "metadata": {},
   "outputs": [
    {
     "data": {
      "text/plain": [
       "2022    2040\n",
       "Name: 접수연도, dtype: int64"
      ]
     },
     "execution_count": 21,
     "metadata": {},
     "output_type": "execute_result"
    }
   ],
   "source": [
    "songpa_gangsin['접수연도'].value_counts()"
   ]
  },
  {
   "cell_type": "markdown",
   "metadata": {},
   "source": [
    "층이 없는 null 값 1로 채워줌"
   ]
  },
  {
   "cell_type": "code",
   "execution_count": 22,
   "metadata": {},
   "outputs": [
    {
     "name": "stderr",
     "output_type": "stream",
     "text": [
      "C:\\Users\\ice_9\\AppData\\Local\\Temp\\ipykernel_4216\\813166277.py:1: SettingWithCopyWarning: \n",
      "A value is trying to be set on a copy of a slice from a DataFrame.\n",
      "Try using .loc[row_indexer,col_indexer] = value instead\n",
      "\n",
      "See the caveats in the documentation: https://pandas.pydata.org/pandas-docs/stable/user_guide/indexing.html#returning-a-view-versus-a-copy\n",
      "  songpa_gangsin['층']=songpa_gangsin['층'].fillna(1)\n"
     ]
    }
   ],
   "source": [
    "songpa_gangsin['층']=songpa_gangsin['층'].fillna(1)"
   ]
  },
  {
   "cell_type": "code",
   "execution_count": 23,
   "metadata": {},
   "outputs": [
    {
     "data": {
      "text/plain": [
       "접수연도            0\n",
       "자치구코드           0\n",
       "자치구명            0\n",
       "법정동코드           0\n",
       "법정동명            0\n",
       "지번구분          155\n",
       "지번구분명         155\n",
       "본번            154\n",
       "부번            154\n",
       "층               0\n",
       "계약일             0\n",
       "전월세 구분          0\n",
       "임대면적(㎡)         0\n",
       "보증금(만원)         0\n",
       "임대료(만원)         0\n",
       "건물명           154\n",
       "건축년도           29\n",
       "건물용도            0\n",
       "계약기간          133\n",
       "신규갱신여부          0\n",
       "계약갱신권사용여부    1096\n",
       "종전 보증금          0\n",
       "종전 임대료          0\n",
       "dtype: int64"
      ]
     },
     "execution_count": 23,
     "metadata": {},
     "output_type": "execute_result"
    }
   ],
   "source": [
    "songpa_gangsin.isnull().sum()"
   ]
  },
  {
   "cell_type": "code",
   "execution_count": 24,
   "metadata": {},
   "outputs": [
    {
     "data": {
      "text/plain": [
       "array(['단독다가구'], dtype=object)"
      ]
     },
     "execution_count": 24,
     "metadata": {},
     "output_type": "execute_result"
    }
   ],
   "source": [
    "songpa_gangsin.loc[songpa_gangsin['건물명'].isnull(), '건물용도'].unique()"
   ]
  },
  {
   "cell_type": "code",
   "execution_count": 25,
   "metadata": {},
   "outputs": [
    {
     "data": {
      "text/plain": [
       "13"
      ]
     },
     "execution_count": 25,
     "metadata": {},
     "output_type": "execute_result"
    }
   ],
   "source": [
    "len(songpa_gangsin['법정동명'].unique())"
   ]
  },
  {
   "cell_type": "markdown",
   "metadata": {},
   "source": [
    "법정동은 일단 써보자"
   ]
  },
  {
   "cell_type": "markdown",
   "metadata": {},
   "source": [
    "지번구분, 지번구분명, 본번, 부번, 건물명, 계약일(2022 데이터 사용하니까 일단 빼고 해봄), 전월세 구분, 계약기간, 신규갱신여부, 계약갱신권사용여부, 자치구코드, 자치구명<-본 데이터에서 할땐 넣는게 나을듯>, 법정동코드, 접수연도(일단 여기선빼고 하기)"
   ]
  },
  {
   "cell_type": "code",
   "execution_count": 26,
   "metadata": {},
   "outputs": [
    {
     "name": "stdout",
     "output_type": "stream",
     "text": [
      "<class 'pandas.core.frame.DataFrame'>\n",
      "Int64Index: 2040 entries, 124577 to 364850\n",
      "Data columns (total 9 columns):\n",
      " #   Column   Non-Null Count  Dtype  \n",
      "---  ------   --------------  -----  \n",
      " 0   법정동명     2040 non-null   object \n",
      " 1   층        2040 non-null   float64\n",
      " 2   임대면적(㎡)  2040 non-null   float64\n",
      " 3   보증금(만원)  2040 non-null   int64  \n",
      " 4   임대료(만원)  2040 non-null   int64  \n",
      " 5   건축년도     2011 non-null   float64\n",
      " 6   건물용도     2040 non-null   object \n",
      " 7   종전 보증금   2040 non-null   float64\n",
      " 8   종전 임대료   2040 non-null   float64\n",
      "dtypes: float64(5), int64(2), object(2)\n",
      "memory usage: 159.4+ KB\n"
     ]
    }
   ],
   "source": [
    "songpa_train = songpa_gangsin.drop(['지번구분', '지번구분명', '본번', '부번', '건물명', '계약일', '전월세 구분', '계약기간', '신규갱신여부', '계약갱신권사용여부', '자치구코드', '자치구명', '법정동코드', '접수연도'], axis=1)\n",
    "songpa_train.info()"
   ]
  },
  {
   "cell_type": "code",
   "execution_count": 27,
   "metadata": {},
   "outputs": [
    {
     "data": {
      "text/html": [
       "<div>\n",
       "<style scoped>\n",
       "    .dataframe tbody tr th:only-of-type {\n",
       "        vertical-align: middle;\n",
       "    }\n",
       "\n",
       "    .dataframe tbody tr th {\n",
       "        vertical-align: top;\n",
       "    }\n",
       "\n",
       "    .dataframe thead th {\n",
       "        text-align: right;\n",
       "    }\n",
       "</style>\n",
       "<table border=\"1\" class=\"dataframe\">\n",
       "  <thead>\n",
       "    <tr style=\"text-align: right;\">\n",
       "      <th></th>\n",
       "      <th>층</th>\n",
       "      <th>임대면적(㎡)</th>\n",
       "      <th>보증금(만원)</th>\n",
       "      <th>임대료(만원)</th>\n",
       "      <th>건축년도</th>\n",
       "      <th>건물용도</th>\n",
       "      <th>종전 보증금</th>\n",
       "      <th>종전 임대료</th>\n",
       "      <th>법정동명_가락동</th>\n",
       "      <th>법정동명_거여동</th>\n",
       "      <th>...</th>\n",
       "      <th>법정동명_문정동</th>\n",
       "      <th>법정동명_방이동</th>\n",
       "      <th>법정동명_삼전동</th>\n",
       "      <th>법정동명_석촌동</th>\n",
       "      <th>법정동명_송파동</th>\n",
       "      <th>법정동명_신천동</th>\n",
       "      <th>법정동명_오금동</th>\n",
       "      <th>법정동명_잠실동</th>\n",
       "      <th>법정동명_장지동</th>\n",
       "      <th>법정동명_풍납동</th>\n",
       "    </tr>\n",
       "  </thead>\n",
       "  <tbody>\n",
       "    <tr>\n",
       "      <th>124577</th>\n",
       "      <td>14.0</td>\n",
       "      <td>100.31</td>\n",
       "      <td>52000</td>\n",
       "      <td>50</td>\n",
       "      <td>1988.0</td>\n",
       "      <td>아파트</td>\n",
       "      <td>52000.0</td>\n",
       "      <td>40.0</td>\n",
       "      <td>0</td>\n",
       "      <td>0</td>\n",
       "      <td>...</td>\n",
       "      <td>0</td>\n",
       "      <td>1</td>\n",
       "      <td>0</td>\n",
       "      <td>0</td>\n",
       "      <td>0</td>\n",
       "      <td>0</td>\n",
       "      <td>0</td>\n",
       "      <td>0</td>\n",
       "      <td>0</td>\n",
       "      <td>0</td>\n",
       "    </tr>\n",
       "    <tr>\n",
       "      <th>125508</th>\n",
       "      <td>2.0</td>\n",
       "      <td>47.58</td>\n",
       "      <td>3000</td>\n",
       "      <td>85</td>\n",
       "      <td>2012.0</td>\n",
       "      <td>연립다세대</td>\n",
       "      <td>3000.0</td>\n",
       "      <td>85.0</td>\n",
       "      <td>0</td>\n",
       "      <td>0</td>\n",
       "      <td>...</td>\n",
       "      <td>0</td>\n",
       "      <td>0</td>\n",
       "      <td>0</td>\n",
       "      <td>0</td>\n",
       "      <td>1</td>\n",
       "      <td>0</td>\n",
       "      <td>0</td>\n",
       "      <td>0</td>\n",
       "      <td>0</td>\n",
       "      <td>0</td>\n",
       "    </tr>\n",
       "  </tbody>\n",
       "</table>\n",
       "<p>2 rows × 21 columns</p>\n",
       "</div>"
      ],
      "text/plain": [
       "           층  임대면적(㎡)  보증금(만원)  임대료(만원)    건축년도   건물용도   종전 보증금  종전 임대료  \\\n",
       "124577  14.0   100.31    52000       50  1988.0    아파트  52000.0    40.0   \n",
       "125508   2.0    47.58     3000       85  2012.0  연립다세대   3000.0    85.0   \n",
       "\n",
       "        법정동명_가락동  법정동명_거여동  ...  법정동명_문정동  법정동명_방이동  법정동명_삼전동  법정동명_석촌동  \\\n",
       "124577         0         0  ...         0         1         0         0   \n",
       "125508         0         0  ...         0         0         0         0   \n",
       "\n",
       "        법정동명_송파동  법정동명_신천동  법정동명_오금동  법정동명_잠실동  법정동명_장지동  법정동명_풍납동  \n",
       "124577         0         0         0         0         0         0  \n",
       "125508         1         0         0         0         0         0  \n",
       "\n",
       "[2 rows x 21 columns]"
      ]
     },
     "execution_count": 27,
     "metadata": {},
     "output_type": "execute_result"
    }
   ],
   "source": [
    "songpa_dum = pd.get_dummies(data = songpa_train, columns=['법정동명'])\n",
    "songpa_dum.head(2)"
   ]
  },
  {
   "cell_type": "code",
   "execution_count": 28,
   "metadata": {},
   "outputs": [],
   "source": [
    "songpa_dum = songpa_dum.loc[songpa_dum['건물용도']!='아파트']"
   ]
  },
  {
   "cell_type": "code",
   "execution_count": 29,
   "metadata": {},
   "outputs": [],
   "source": [
    "songpa_dum = pd.get_dummies(data = songpa_dum, columns=['건물용도'])"
   ]
  },
  {
   "cell_type": "code",
   "execution_count": 30,
   "metadata": {},
   "outputs": [
    {
     "data": {
      "text/html": [
       "<div>\n",
       "<style scoped>\n",
       "    .dataframe tbody tr th:only-of-type {\n",
       "        vertical-align: middle;\n",
       "    }\n",
       "\n",
       "    .dataframe tbody tr th {\n",
       "        vertical-align: top;\n",
       "    }\n",
       "\n",
       "    .dataframe thead th {\n",
       "        text-align: right;\n",
       "    }\n",
       "</style>\n",
       "<table border=\"1\" class=\"dataframe\">\n",
       "  <thead>\n",
       "    <tr style=\"text-align: right;\">\n",
       "      <th></th>\n",
       "      <th>층</th>\n",
       "      <th>임대면적(㎡)</th>\n",
       "      <th>보증금(만원)</th>\n",
       "      <th>임대료(만원)</th>\n",
       "      <th>건축년도</th>\n",
       "      <th>종전 보증금</th>\n",
       "      <th>종전 임대료</th>\n",
       "      <th>법정동명_가락동</th>\n",
       "      <th>법정동명_거여동</th>\n",
       "      <th>법정동명_마천동</th>\n",
       "      <th>...</th>\n",
       "      <th>법정동명_석촌동</th>\n",
       "      <th>법정동명_송파동</th>\n",
       "      <th>법정동명_신천동</th>\n",
       "      <th>법정동명_오금동</th>\n",
       "      <th>법정동명_잠실동</th>\n",
       "      <th>법정동명_장지동</th>\n",
       "      <th>법정동명_풍납동</th>\n",
       "      <th>건물용도_단독다가구</th>\n",
       "      <th>건물용도_연립다세대</th>\n",
       "      <th>건물용도_오피스텔</th>\n",
       "    </tr>\n",
       "  </thead>\n",
       "  <tbody>\n",
       "    <tr>\n",
       "      <th>125508</th>\n",
       "      <td>2.0</td>\n",
       "      <td>47.58</td>\n",
       "      <td>3000</td>\n",
       "      <td>85</td>\n",
       "      <td>2012.0</td>\n",
       "      <td>3000.0</td>\n",
       "      <td>85.0</td>\n",
       "      <td>0</td>\n",
       "      <td>0</td>\n",
       "      <td>0</td>\n",
       "      <td>...</td>\n",
       "      <td>0</td>\n",
       "      <td>1</td>\n",
       "      <td>0</td>\n",
       "      <td>0</td>\n",
       "      <td>0</td>\n",
       "      <td>0</td>\n",
       "      <td>0</td>\n",
       "      <td>0</td>\n",
       "      <td>1</td>\n",
       "      <td>0</td>\n",
       "    </tr>\n",
       "    <tr>\n",
       "      <th>125700</th>\n",
       "      <td>2.0</td>\n",
       "      <td>67.56</td>\n",
       "      <td>22050</td>\n",
       "      <td>44</td>\n",
       "      <td>2002.0</td>\n",
       "      <td>19000.0</td>\n",
       "      <td>10.0</td>\n",
       "      <td>0</td>\n",
       "      <td>0</td>\n",
       "      <td>0</td>\n",
       "      <td>...</td>\n",
       "      <td>0</td>\n",
       "      <td>1</td>\n",
       "      <td>0</td>\n",
       "      <td>0</td>\n",
       "      <td>0</td>\n",
       "      <td>0</td>\n",
       "      <td>0</td>\n",
       "      <td>0</td>\n",
       "      <td>1</td>\n",
       "      <td>0</td>\n",
       "    </tr>\n",
       "  </tbody>\n",
       "</table>\n",
       "<p>2 rows × 23 columns</p>\n",
       "</div>"
      ],
      "text/plain": [
       "          층  임대면적(㎡)  보증금(만원)  임대료(만원)    건축년도   종전 보증금  종전 임대료  법정동명_가락동  \\\n",
       "125508  2.0    47.58     3000       85  2012.0   3000.0    85.0         0   \n",
       "125700  2.0    67.56    22050       44  2002.0  19000.0    10.0         0   \n",
       "\n",
       "        법정동명_거여동  법정동명_마천동  ...  법정동명_석촌동  법정동명_송파동  법정동명_신천동  법정동명_오금동  \\\n",
       "125508         0         0  ...         0         1         0         0   \n",
       "125700         0         0  ...         0         1         0         0   \n",
       "\n",
       "        법정동명_잠실동  법정동명_장지동  법정동명_풍납동  건물용도_단독다가구  건물용도_연립다세대  건물용도_오피스텔  \n",
       "125508         0         0         0           0           1          0  \n",
       "125700         0         0         0           0           1          0  \n",
       "\n",
       "[2 rows x 23 columns]"
      ]
     },
     "execution_count": 30,
     "metadata": {},
     "output_type": "execute_result"
    }
   ],
   "source": [
    "songpa_dum.head(2)"
   ]
  },
  {
   "cell_type": "markdown",
   "metadata": {},
   "source": [
    "건축년도 null값 제거"
   ]
  },
  {
   "cell_type": "code",
   "execution_count": 31,
   "metadata": {},
   "outputs": [],
   "source": [
    "songpa_dum=songpa_dum.dropna()"
   ]
  },
  {
   "cell_type": "code",
   "execution_count": 32,
   "metadata": {},
   "outputs": [],
   "source": [
    "songpa_dum = songpa_dum.loc[songpa_dum['종전 임대료']>0]"
   ]
  },
  {
   "cell_type": "code",
   "execution_count": 33,
   "metadata": {},
   "outputs": [
    {
     "data": {
      "text/plain": [
       "50.0     72\n",
       "60.0     63\n",
       "30.0     61\n",
       "40.0     55\n",
       "70.0     52\n",
       "         ..\n",
       "132.0     1\n",
       "175.0     1\n",
       "150.0     1\n",
       "97.0      1\n",
       "16.0      1\n",
       "Name: 종전 임대료, Length: 105, dtype: int64"
      ]
     },
     "execution_count": 33,
     "metadata": {},
     "output_type": "execute_result"
    }
   ],
   "source": [
    "songpa_dum['종전 임대료'].value_counts()"
   ]
  },
  {
   "cell_type": "code",
   "execution_count": 34,
   "metadata": {},
   "outputs": [
    {
     "name": "stdout",
     "output_type": "stream",
     "text": [
      "<class 'pandas.core.frame.DataFrame'>\n",
      "Int64Index: 1025 entries, 125508 to 364850\n",
      "Data columns (total 23 columns):\n",
      " #   Column      Non-Null Count  Dtype  \n",
      "---  ------      --------------  -----  \n",
      " 0   층           1025 non-null   float64\n",
      " 1   임대면적(㎡)     1025 non-null   float64\n",
      " 2   보증금(만원)     1025 non-null   int64  \n",
      " 3   임대료(만원)     1025 non-null   int64  \n",
      " 4   건축년도        1025 non-null   float64\n",
      " 5   종전 보증금      1025 non-null   float64\n",
      " 6   종전 임대료      1025 non-null   float64\n",
      " 7   법정동명_가락동    1025 non-null   uint8  \n",
      " 8   법정동명_거여동    1025 non-null   uint8  \n",
      " 9   법정동명_마천동    1025 non-null   uint8  \n",
      " 10  법정동명_문정동    1025 non-null   uint8  \n",
      " 11  법정동명_방이동    1025 non-null   uint8  \n",
      " 12  법정동명_삼전동    1025 non-null   uint8  \n",
      " 13  법정동명_석촌동    1025 non-null   uint8  \n",
      " 14  법정동명_송파동    1025 non-null   uint8  \n",
      " 15  법정동명_신천동    1025 non-null   uint8  \n",
      " 16  법정동명_오금동    1025 non-null   uint8  \n",
      " 17  법정동명_잠실동    1025 non-null   uint8  \n",
      " 18  법정동명_장지동    1025 non-null   uint8  \n",
      " 19  법정동명_풍납동    1025 non-null   uint8  \n",
      " 20  건물용도_단독다가구  1025 non-null   uint8  \n",
      " 21  건물용도_연립다세대  1025 non-null   uint8  \n",
      " 22  건물용도_오피스텔   1025 non-null   uint8  \n",
      "dtypes: float64(5), int64(2), uint8(16)\n",
      "memory usage: 80.1 KB\n"
     ]
    }
   ],
   "source": [
    "songpa_dum.info()"
   ]
  },
  {
   "cell_type": "code",
   "execution_count": 35,
   "metadata": {},
   "outputs": [
    {
     "name": "stderr",
     "output_type": "stream",
     "text": [
      "C:\\Users\\ice_9\\AppData\\Local\\Temp\\ipykernel_4216\\1362039182.py:2: FutureWarning: In a future version of pandas all arguments of DataFrame.drop except for the argument 'labels' will be keyword-only.\n",
      "  x_train, x_test, y_train, y_test = train_test_split(songpa_dum.drop('임대료(만원)', 1), songpa_dum['임대료(만원)'], random_state=0)\n"
     ]
    }
   ],
   "source": [
    "from sklearn.model_selection import train_test_split\n",
    "x_train, x_test, y_train, y_test = train_test_split(songpa_dum.drop('임대료(만원)', 1), songpa_dum['임대료(만원)'], random_state=0)"
   ]
  },
  {
   "cell_type": "code",
   "execution_count": 36,
   "metadata": {},
   "outputs": [
    {
     "data": {
      "text/plain": [
       "27.456882320258508"
      ]
     },
     "execution_count": 36,
     "metadata": {},
     "output_type": "execute_result"
    }
   ],
   "source": [
    "from sklearn.linear_model import LinearRegression\n",
    "from sklearn.metrics import mean_squared_error, r2_score\n",
    "model = LinearRegression().fit(x_train, y_train)\n",
    "pred = model.predict(x_test)\n",
    "mean_squared_error(y_test, pred)"
   ]
  },
  {
   "cell_type": "code",
   "execution_count": 37,
   "metadata": {},
   "outputs": [],
   "source": [
    "import matplotlib.pyplot as plt\n",
    "import numpy as np"
   ]
  },
  {
   "cell_type": "code",
   "execution_count": 38,
   "metadata": {},
   "outputs": [
    {
     "data": {
      "text/plain": [
       "0.9416342412451362"
      ]
     },
     "execution_count": 38,
     "metadata": {},
     "output_type": "execute_result"
    }
   ],
   "source": [
    "(abs(y_test - pred)<10).mean()"
   ]
  },
  {
   "cell_type": "code",
   "execution_count": 39,
   "metadata": {},
   "outputs": [
    {
     "data": {
      "text/plain": [
       "0.9647452526538121"
      ]
     },
     "execution_count": 39,
     "metadata": {},
     "output_type": "execute_result"
    }
   ],
   "source": [
    "r2_score(y_test, pred)"
   ]
  },
  {
   "cell_type": "code",
   "execution_count": 40,
   "metadata": {},
   "outputs": [],
   "source": [
    "# x = np.arange(503)\n",
    "# plt.figure(figsize=(20, 20))\n",
    "# plt.plot(x, pred, color='r', label='pred')   # 예측값\n",
    "# plt.scatter(x, y_test, label='data')   # 실제값\n",
    "# plt.legend(fontsize=18)\n",
    "# plt.show()"
   ]
  },
  {
   "cell_type": "code",
   "execution_count": 41,
   "metadata": {},
   "outputs": [
    {
     "data": {
      "text/plain": [
       "55.01330896625817"
      ]
     },
     "execution_count": 41,
     "metadata": {},
     "output_type": "execute_result"
    }
   ],
   "source": [
    "from sklearn.tree import DecisionTreeRegressor\n",
    "treemodel = DecisionTreeRegressor(max_depth=5, random_state=0, min_samples_split=10).fit(x_train, y_train)\n",
    "tree_pred = treemodel.predict(x_test)\n",
    "mean_squared_error(y_test, tree_pred)"
   ]
  },
  {
   "cell_type": "code",
   "execution_count": 42,
   "metadata": {},
   "outputs": [
    {
     "data": {
      "text/plain": [
       "0.9066147859922179"
      ]
     },
     "execution_count": 42,
     "metadata": {},
     "output_type": "execute_result"
    }
   ],
   "source": [
    "(abs(y_test - tree_pred)<10).mean()"
   ]
  },
  {
   "cell_type": "code",
   "execution_count": 43,
   "metadata": {},
   "outputs": [
    {
     "data": {
      "text/plain": [
       "(257,)"
      ]
     },
     "execution_count": 43,
     "metadata": {},
     "output_type": "execute_result"
    }
   ],
   "source": [
    "y_test.shape"
   ]
  },
  {
   "cell_type": "code",
   "execution_count": 57,
   "metadata": {},
   "outputs": [
    {
     "data": {
      "text/plain": [
       "221646    32\n",
       "Name: 임대료(만원), dtype: int64"
      ]
     },
     "execution_count": 57,
     "metadata": {},
     "output_type": "execute_result"
    }
   ],
   "source": [
    "sampledata_y=y_test.iloc[[10],]\n",
    "sampledata_y"
   ]
  },
  {
   "cell_type": "code",
   "execution_count": 58,
   "metadata": {},
   "outputs": [
    {
     "data": {
      "text/html": [
       "<div>\n",
       "<style scoped>\n",
       "    .dataframe tbody tr th:only-of-type {\n",
       "        vertical-align: middle;\n",
       "    }\n",
       "\n",
       "    .dataframe tbody tr th {\n",
       "        vertical-align: top;\n",
       "    }\n",
       "\n",
       "    .dataframe thead th {\n",
       "        text-align: right;\n",
       "    }\n",
       "</style>\n",
       "<table border=\"1\" class=\"dataframe\">\n",
       "  <thead>\n",
       "    <tr style=\"text-align: right;\">\n",
       "      <th></th>\n",
       "      <th>층</th>\n",
       "      <th>임대면적(㎡)</th>\n",
       "      <th>보증금(만원)</th>\n",
       "      <th>건축년도</th>\n",
       "      <th>종전 보증금</th>\n",
       "      <th>종전 임대료</th>\n",
       "      <th>법정동명_가락동</th>\n",
       "      <th>법정동명_거여동</th>\n",
       "      <th>법정동명_마천동</th>\n",
       "      <th>법정동명_문정동</th>\n",
       "      <th>...</th>\n",
       "      <th>법정동명_석촌동</th>\n",
       "      <th>법정동명_송파동</th>\n",
       "      <th>법정동명_신천동</th>\n",
       "      <th>법정동명_오금동</th>\n",
       "      <th>법정동명_잠실동</th>\n",
       "      <th>법정동명_장지동</th>\n",
       "      <th>법정동명_풍납동</th>\n",
       "      <th>건물용도_단독다가구</th>\n",
       "      <th>건물용도_연립다세대</th>\n",
       "      <th>건물용도_오피스텔</th>\n",
       "    </tr>\n",
       "  </thead>\n",
       "  <tbody>\n",
       "    <tr>\n",
       "      <th>221646</th>\n",
       "      <td>4.0</td>\n",
       "      <td>48.01</td>\n",
       "      <td>4000</td>\n",
       "      <td>2012.0</td>\n",
       "      <td>4000.0</td>\n",
       "      <td>30.0</td>\n",
       "      <td>1</td>\n",
       "      <td>0</td>\n",
       "      <td>0</td>\n",
       "      <td>0</td>\n",
       "      <td>...</td>\n",
       "      <td>0</td>\n",
       "      <td>0</td>\n",
       "      <td>0</td>\n",
       "      <td>0</td>\n",
       "      <td>0</td>\n",
       "      <td>0</td>\n",
       "      <td>0</td>\n",
       "      <td>0</td>\n",
       "      <td>1</td>\n",
       "      <td>0</td>\n",
       "    </tr>\n",
       "  </tbody>\n",
       "</table>\n",
       "<p>1 rows × 22 columns</p>\n",
       "</div>"
      ],
      "text/plain": [
       "          층  임대면적(㎡)  보증금(만원)    건축년도  종전 보증금  종전 임대료  법정동명_가락동  법정동명_거여동  \\\n",
       "221646  4.0    48.01     4000  2012.0  4000.0    30.0         1         0   \n",
       "\n",
       "        법정동명_마천동  법정동명_문정동  ...  법정동명_석촌동  법정동명_송파동  법정동명_신천동  법정동명_오금동  \\\n",
       "221646         0         0  ...         0         0         0         0   \n",
       "\n",
       "        법정동명_잠실동  법정동명_장지동  법정동명_풍납동  건물용도_단독다가구  건물용도_연립다세대  건물용도_오피스텔  \n",
       "221646         0         0         0           0           1          0  \n",
       "\n",
       "[1 rows x 22 columns]"
      ]
     },
     "execution_count": 58,
     "metadata": {},
     "output_type": "execute_result"
    }
   ],
   "source": [
    "sampledata_x=x_test.iloc[[10],]\n",
    "sampledata_x"
   ]
  },
  {
   "cell_type": "code",
   "execution_count": 59,
   "metadata": {},
   "outputs": [
    {
     "data": {
      "text/plain": [
       "array([31.16332978])"
      ]
     },
     "execution_count": 59,
     "metadata": {},
     "output_type": "execute_result"
    }
   ],
   "source": [
    "model.predict(sampledata_x)"
   ]
  },
  {
   "cell_type": "code",
   "execution_count": 47,
   "metadata": {},
   "outputs": [],
   "source": [
    "from sklearn.linear_model import Lasso\n",
    "\n",
    "alphas = [100, 10, 1, 0.1, 0.01, 0.001, 0.0001]"
   ]
  },
  {
   "cell_type": "code",
   "execution_count": 48,
   "metadata": {},
   "outputs": [
    {
     "ename": "NameError",
     "evalue": "name 'add_model' is not defined",
     "output_type": "error",
     "traceback": [
      "\u001b[1;31m---------------------------------------------------------------------------\u001b[0m",
      "\u001b[1;31mNameError\u001b[0m                                 Traceback (most recent call last)",
      "\u001b[1;32mc:\\KB_Workspace\\final_project\\price_predict.ipynb 셀 52\u001b[0m in \u001b[0;36m<cell line: 1>\u001b[1;34m()\u001b[0m\n\u001b[0;32m      <a href='vscode-notebook-cell:/c%3A/KB_Workspace/final_project/price_predict.ipynb#Y102sZmlsZQ%3D%3D?line=2'>3</a>\u001b[0m     lasso\u001b[39m.\u001b[39mfit(x_train, y_train)\n\u001b[0;32m      <a href='vscode-notebook-cell:/c%3A/KB_Workspace/final_project/price_predict.ipynb#Y102sZmlsZQ%3D%3D?line=3'>4</a>\u001b[0m     pred \u001b[39m=\u001b[39m lasso\u001b[39m.\u001b[39mpredict(x_test)\n\u001b[1;32m----> <a href='vscode-notebook-cell:/c%3A/KB_Workspace/final_project/price_predict.ipynb#Y102sZmlsZQ%3D%3D?line=4'>5</a>\u001b[0m     add_model(\u001b[39m'\u001b[39m\u001b[39mLasso(alpha=\u001b[39m\u001b[39m{}\u001b[39;00m\u001b[39m)\u001b[39m\u001b[39m'\u001b[39m\u001b[39m.\u001b[39mformat(alpha), pred, y_test)\n\u001b[0;32m      <a href='vscode-notebook-cell:/c%3A/KB_Workspace/final_project/price_predict.ipynb#Y102sZmlsZQ%3D%3D?line=5'>6</a>\u001b[0m plot_all()\n",
      "\u001b[1;31mNameError\u001b[0m: name 'add_model' is not defined"
     ]
    }
   ],
   "source": [
    "for alpha in alphas:\n",
    "    lasso = Lasso(alpha=alpha)\n",
    "    lasso.fit(x_train, y_train)\n",
    "    pred = lasso.predict(x_test)\n",
    "    add_model('Lasso(alpha={})'.format(alpha), pred, y_test)\n",
    "plot_all()"
   ]
  }
 ],
 "metadata": {
  "kernelspec": {
   "display_name": "Python 3.9.12 ('base')",
   "language": "python",
   "name": "python3"
  },
  "language_info": {
   "codemirror_mode": {
    "name": "ipython",
    "version": 3
   },
   "file_extension": ".py",
   "mimetype": "text/x-python",
   "name": "python",
   "nbconvert_exporter": "python",
   "pygments_lexer": "ipython3",
   "version": "3.9.12"
  },
  "orig_nbformat": 4,
  "vscode": {
   "interpreter": {
    "hash": "66a9da18caf10d712c2a7145ebee24072bdfaa6f0e06b1e12fab07798beb6c4b"
   }
  }
 },
 "nbformat": 4,
 "nbformat_minor": 2
}
